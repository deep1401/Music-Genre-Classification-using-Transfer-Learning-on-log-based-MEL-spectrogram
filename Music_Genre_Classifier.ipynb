{
  "nbformat": 4,
  "nbformat_minor": 0,
  "metadata": {
    "colab": {
      "name": "Music Genre Classifier.ipynb",
      "version": "0.3.2",
      "provenance": [],
      "collapsed_sections": []
    },
    "kernelspec": {
      "name": "python3",
      "display_name": "Python 3"
    },
    "accelerator": "GPU"
  },
  "cells": [
    {
      "cell_type": "code",
      "metadata": {
        "id": "3ZMtdNvTi3ju",
        "colab_type": "code",
        "colab": {}
      },
      "source": [
        "%matplotlib inline\n",
        "%reload_ext autoreload\n",
        "%autoreload 2"
      ],
      "execution_count": 0,
      "outputs": []
    },
    {
      "cell_type": "code",
      "metadata": {
        "id": "O2FGh1EN-6s9",
        "colab_type": "code",
        "colab": {}
      },
      "source": [
        "from google.colab import drive\n",
        "drive.mount('/content/drive')"
      ],
      "execution_count": 0,
      "outputs": []
    },
    {
      "cell_type": "code",
      "metadata": {
        "id": "GIxQ__84jH_w",
        "colab_type": "code",
        "colab": {}
      },
      "source": [
        "from fastai.vision import *\n",
        "import os\n",
        "import matplotlib.pyplot as plt\n",
        "import librosa\n",
        "import librosa.display\n",
        "import IPython.display as ipd"
      ],
      "execution_count": 0,
      "outputs": []
    },
    {
      "cell_type": "code",
      "metadata": {
        "id": "vWgKxRkx9Lm8",
        "colab_type": "code",
        "colab": {}
      },
      "source": [
        "path1=Path('/content/drive/My Drive/genres/genres/classical')\n",
        "audio_clips=os.listdir(path1)\n"
      ],
      "execution_count": 0,
      "outputs": []
    },
    {
      "cell_type": "markdown",
      "metadata": {
        "id": "n2utzR4F8LpB",
        "colab_type": "text"
      },
      "source": [
        "**Test 1** \n"
      ]
    },
    {
      "cell_type": "code",
      "metadata": {
        "id": "qCTUjw7N_XCb",
        "colab_type": "code",
        "colab": {}
      },
      "source": [
        "x, sr = librosa.load(path1/audio_clips[2], sr=44100)\n",
        "print(type(x), type(sr))\n",
        "print(x.shape, sr)"
      ],
      "execution_count": 0,
      "outputs": []
    },
    {
      "cell_type": "code",
      "metadata": {
        "id": "a6sLZvfw7UxO",
        "colab_type": "code",
        "colab": {}
      },
      "source": [
        "X = librosa.stft(x)\n",
        "Xdb = librosa.amplitude_to_db(abs(X))\n",
        "plt.figure(figsize=(14, 5))\n",
        "librosa.display.specshow(Xdb, sr=sr, x_axis='time', y_axis='hz')\n",
        "plt.colorbar()\n"
      ],
      "execution_count": 0,
      "outputs": []
    },
    {
      "cell_type": "code",
      "metadata": {
        "id": "NnO8FLeJ-Ad4",
        "colab_type": "code",
        "colab": {}
      },
      "source": [
        "plt.figure(figsize=(14, 5))\n",
        "librosa.display.specshow(Xdb, sr=sr, x_axis='time', y_axis='log')\n",
        "plt.colorbar()\n",
        "plt.savefig(path2)"
      ],
      "execution_count": 0,
      "outputs": []
    },
    {
      "cell_type": "code",
      "metadata": {
        "id": "wS9EyUcW_TQP",
        "colab_type": "code",
        "colab": {}
      },
      "source": [
        "arr=['0.png','1.png','2.png','3.png','4.png','5.png','6.png','7.png','8.png','9.png','10.png','11.png','12.png','13.png','14.png','15.png','16.png','17.png','18.png','19.png','20.png','21.png','22.png','23.png','24.png','25.png','26.png','27..png','28.png','29.png','30.png','31.png','32.png','33.png','34.png','35.png','36.png','37.png','38.png','39.png','40.png','41.png','42.png','43.png','44.png','45.png','46.png','47.png','48.png','49.png','50.png','51.png','52.png','53.png','54.png','55.png','56.png','57.png','58.png','59.png','60.png','61.png','62.png','63.png','64.png','65.png','66.png','67.png','68.png','69.png','70.png','71.png','72.png','73.png','74.png','75.png','76.png','77.png','78.png','79.png','80.png','81.png','82.png','83.png','84.png','85.png','86.png','87.png','88.png','89.png','90.png','91.png','92.png','93.png','94.png','95.png','96.png','97.png','98.png','99.png']\n",
        "len(arr)\n",
        "print(arr[0])"
      ],
      "execution_count": 0,
      "outputs": []
    },
    {
      "cell_type": "markdown",
      "metadata": {
        "id": "s3TGSzekHuIa",
        "colab_type": "text"
      },
      "source": [
        "**Converting directory files to Spectograms**"
      ]
    },
    {
      "cell_type": "code",
      "metadata": {
        "id": "ZFpLHffXHta_",
        "colab_type": "code",
        "colab": {}
      },
      "source": [
        "folder='classical1'\n",
        "path2=Path('/content/drive/My Drive/genres/genres')\n",
        "path2=path2/folder\n",
        "path2.mkdir(parents=True,exist_ok=True)\n",
        "def make_spectogram(x,sr,fn):\n",
        "  X = librosa.stft(x)\n",
        "  Xdb = librosa.amplitude_to_db(abs(X))\n",
        "  plt.figure(figsize=(14, 5))\n",
        "  librosa.display.specshow(Xdb, sr=sr, x_axis='time', y_axis='log')\n",
        "  plt.colorbar()\n",
        "  plt.savefig(path2/arr[i],format='png')\n"
      ],
      "execution_count": 0,
      "outputs": []
    },
    {
      "cell_type": "code",
      "metadata": {
        "id": "dmhbajqaJEHk",
        "colab_type": "code",
        "colab": {}
      },
      "source": [
        "for i in range(100):\n",
        "  fname=path1/audio_clips[i]\n",
        "  x,sr= librosa.load(fname,sr=44100)\n",
        "  make_spectogram(x,sr,fname)\n",
        "print(\"Run Successful\")"
      ],
      "execution_count": 0,
      "outputs": []
    },
    {
      "cell_type": "code",
      "metadata": {
        "id": "4smfMDQVMjVT",
        "colab_type": "code",
        "colab": {}
      },
      "source": [
        "path1=Path('/content/drive/My Drive/genres/genres/blues')\n",
        "audio_clips=os.listdir(path1)\n",
        "folder='blues1'\n",
        "path2=Path('/content/drive/My Drive/genres/genres')\n",
        "path2=path2/folder\n",
        "path2.mkdir(parents=True,exist_ok=True)"
      ],
      "execution_count": 0,
      "outputs": []
    },
    {
      "cell_type": "code",
      "metadata": {
        "id": "Krx60Q6IUxGj",
        "colab_type": "code",
        "colab": {}
      },
      "source": [
        "for i in range(43,100):\n",
        "  fname=path1/audio_clips[i]\n",
        "  x,sr= librosa.load(fname,sr=44100)\n",
        "  make_spectogram(x,sr,fname)\n",
        "print(\"Run Successful\")"
      ],
      "execution_count": 0,
      "outputs": []
    },
    {
      "cell_type": "code",
      "metadata": {
        "id": "1lrjUjrTGGJx",
        "colab_type": "code",
        "colab": {}
      },
      "source": [
        "path1=Path('/content/drive/My Drive/genres/genres/country')\n",
        "audio_clips=os.listdir(path1)\n",
        "folder='country1'\n",
        "path2=Path('/content/drive/My Drive/genres/genres')\n",
        "path2=path2/folder\n",
        "path2.mkdir(parents=True,exist_ok=True)"
      ],
      "execution_count": 0,
      "outputs": []
    },
    {
      "cell_type": "code",
      "metadata": {
        "id": "mPPSlwnbJ1QR",
        "colab_type": "code",
        "colab": {}
      },
      "source": [
        "for i in range(0,55):\n",
        "  fname=path1/audio_clips[i]\n",
        "  x,sr= librosa.load(fname,sr=44100)\n",
        "  make_spectogram(x,sr,fname)\n",
        "print(\"Run Successful\")\n"
      ],
      "execution_count": 0,
      "outputs": []
    },
    {
      "cell_type": "code",
      "metadata": {
        "id": "UAZoRKLJKIFT",
        "colab_type": "code",
        "colab": {}
      },
      "source": [
        "for i in range(55,100):\n",
        "  fname=path1/audio_clips[i]\n",
        "  x,sr= librosa.load(fname,sr=44100)\n",
        "  make_spectogram(x,sr,fname)\n",
        "print(\"Run Successful\")"
      ],
      "execution_count": 0,
      "outputs": []
    },
    {
      "cell_type": "code",
      "metadata": {
        "id": "KwmFfWSlMpnj",
        "colab_type": "code",
        "colab": {}
      },
      "source": [
        "print(path2)\n",
        "print(path1)"
      ],
      "execution_count": 0,
      "outputs": []
    },
    {
      "cell_type": "code",
      "metadata": {
        "id": "5rF0wAX2NQ-L",
        "colab_type": "code",
        "colab": {}
      },
      "source": [
        "path1=Path('/content/drive/My Drive/genres/genres/disco')\n",
        "audio_clips=os.listdir(path1)\n",
        "folder='disco1'\n",
        "path2=Path('/content/drive/My Drive/genres/genres')\n",
        "path2=path2/folder\n",
        "path2.mkdir(parents=True,exist_ok=True)"
      ],
      "execution_count": 0,
      "outputs": []
    },
    {
      "cell_type": "code",
      "metadata": {
        "id": "HxpaOBrrN-ak",
        "colab_type": "code",
        "colab": {}
      },
      "source": [
        "for i in range(0,55):\n",
        "  fname=path1/audio_clips[i]\n",
        "  x,sr= librosa.load(fname,sr=44100)\n",
        "  make_spectogram(x,sr,fname)\n",
        "print(\"Run Successful\")"
      ],
      "execution_count": 0,
      "outputs": []
    },
    {
      "cell_type": "code",
      "metadata": {
        "id": "oHMsqifiQeLV",
        "colab_type": "code",
        "colab": {}
      },
      "source": [
        "for i in range(55,100):\n",
        "  fname=path1/audio_clips[i]\n",
        "  x,sr= librosa.load(fname,sr=44100)\n",
        "  make_spectogram(x,sr,fname)\n",
        "print(\"Run Successful\")"
      ],
      "execution_count": 0,
      "outputs": []
    },
    {
      "cell_type": "code",
      "metadata": {
        "id": "ItApf6XoVOqj",
        "colab_type": "code",
        "colab": {}
      },
      "source": [
        "path1=Path('/content/drive/My Drive/genres/genres/hiphop')\n",
        "audio_clips=os.listdir(path1)\n",
        "folder='hiphop11'\n",
        "path2=Path('/content/drive/My Drive/genres/genres')\n",
        "path2=path2/folder\n",
        "path2.mkdir(parents=True,exist_ok=True)"
      ],
      "execution_count": 0,
      "outputs": []
    },
    {
      "cell_type": "code",
      "metadata": {
        "id": "Wb1hNY5hW5oO",
        "colab_type": "code",
        "colab": {}
      },
      "source": [
        "for i in range(0,55):\n",
        "  fname=path1/audio_clips[i]\n",
        "  x,sr= librosa.load(fname,sr=44100)\n",
        "  make_spectogram(x,sr,fname)\n",
        "print(\"Run Successful\")"
      ],
      "execution_count": 0,
      "outputs": []
    },
    {
      "cell_type": "code",
      "metadata": {
        "id": "o7bpK9-QXBY0",
        "colab_type": "code",
        "colab": {}
      },
      "source": [
        "for i in range(55,100):\n",
        "  fname=path1/audio_clips[i]\n",
        "  x,sr= librosa.load(fname,sr=44100)\n",
        "  make_spectogram(x,sr,fname)\n",
        "print(\"Run Successful\")"
      ],
      "execution_count": 0,
      "outputs": []
    },
    {
      "cell_type": "code",
      "metadata": {
        "id": "1e-B4zCpYxPd",
        "colab_type": "code",
        "colab": {}
      },
      "source": [
        "path1=Path('/content/drive/My Drive/genres/genres/jazz')\n",
        "audio_clips=os.listdir(path1)\n",
        "folder='jazz1'\n",
        "path2=Path('/content/drive/My Drive/genres/genres')\n",
        "path2=path2/folder\n",
        "path2.mkdir(parents=True,exist_ok=True)"
      ],
      "execution_count": 0,
      "outputs": []
    },
    {
      "cell_type": "code",
      "metadata": {
        "id": "-YpDIjUwYxBU",
        "colab_type": "code",
        "colab": {}
      },
      "source": [
        "for i in range(0,55):\n",
        "  fname=path1/audio_clips[i]\n",
        "  x,sr= librosa.load(fname,sr=44100)\n",
        "  make_spectogram(x,sr,fname)\n",
        "print(\"Run Successful\")"
      ],
      "execution_count": 0,
      "outputs": []
    },
    {
      "cell_type": "code",
      "metadata": {
        "id": "ZmH0oHnZYwwh",
        "colab_type": "code",
        "colab": {}
      },
      "source": [
        "for i in range(55,100):\n",
        "  fname=path1/audio_clips[i]\n",
        "  x,sr= librosa.load(fname,sr=44100)\n",
        "  make_spectogram(x,sr,fname)\n",
        "print(\"Run Successful\")"
      ],
      "execution_count": 0,
      "outputs": []
    },
    {
      "cell_type": "code",
      "metadata": {
        "id": "ZpdGmHg7eGRm",
        "colab_type": "code",
        "colab": {}
      },
      "source": [
        "path1=Path('/content/drive/My Drive/genres/genres/metal')\n",
        "audio_clips=os.listdir(path1)\n",
        "folder='metal1'\n",
        "path2=Path('/content/drive/My Drive/genres/genres')\n",
        "path2=path2/folder\n",
        "path2.mkdir(parents=True,exist_ok=True)"
      ],
      "execution_count": 0,
      "outputs": []
    },
    {
      "cell_type": "code",
      "metadata": {
        "id": "W_-L0SaOgfs0",
        "colab_type": "code",
        "colab": {}
      },
      "source": [
        "for i in range(0,55):\n",
        "  fname=path1/audio_clips[i]\n",
        "  x,sr= librosa.load(fname,sr=44100)\n",
        "  make_spectogram(x,sr,fname)\n",
        "print(\"Run Successful\")"
      ],
      "execution_count": 0,
      "outputs": []
    },
    {
      "cell_type": "code",
      "metadata": {
        "id": "nIxu_tXUglFK",
        "colab_type": "code",
        "colab": {}
      },
      "source": [
        "for i in range(55,100):\n",
        "  fname=path1/audio_clips[i]\n",
        "  x,sr= librosa.load(fname,sr=44100)\n",
        "  make_spectogram(x,sr,fname)\n",
        "print(\"Run Successful\")"
      ],
      "execution_count": 0,
      "outputs": []
    },
    {
      "cell_type": "code",
      "metadata": {
        "id": "NnHC39eaihoQ",
        "colab_type": "code",
        "colab": {}
      },
      "source": [
        "path1=Path('/content/drive/My Drive/genres/genres/pop')\n",
        "audio_clips=os.listdir(path1)\n",
        "folder='pop1'\n",
        "path2=Path('/content/drive/My Drive/genres/genres')\n",
        "path2=path2/folder\n",
        "path2.mkdir(parents=True,exist_ok=True)"
      ],
      "execution_count": 0,
      "outputs": []
    },
    {
      "cell_type": "code",
      "metadata": {
        "id": "vFapyVgSihZt",
        "colab_type": "code",
        "colab": {}
      },
      "source": [
        "for i in range(0,55):\n",
        "  fname=path1/audio_clips[i]\n",
        "  x,sr= librosa.load(fname,sr=44100)\n",
        "  make_spectogram(x,sr,fname)\n",
        "print(\"Run Successful\")"
      ],
      "execution_count": 0,
      "outputs": []
    },
    {
      "cell_type": "code",
      "metadata": {
        "id": "8i2YZh6KihQV",
        "colab_type": "code",
        "colab": {}
      },
      "source": [
        "for i in range(55,100):\n",
        "  fname=path1/audio_clips[i]\n",
        "  x,sr= librosa.load(fname,sr=44100)\n",
        "  make_spectogram(x,sr,fname)\n",
        "print(\"Run Successful\")"
      ],
      "execution_count": 0,
      "outputs": []
    },
    {
      "cell_type": "code",
      "metadata": {
        "id": "o2PdpbmYmehc",
        "colab_type": "code",
        "colab": {}
      },
      "source": [
        "path1=Path('/content/drive/My Drive/genres/genres/reggae')\n",
        "audio_clips=os.listdir(path1)\n",
        "folder='reggae1'\n",
        "path2=Path('/content/drive/My Drive/genres/genres')\n",
        "path2=path2/folder\n",
        "path2.mkdir(parents=True,exist_ok=True)"
      ],
      "execution_count": 0,
      "outputs": []
    },
    {
      "cell_type": "code",
      "metadata": {
        "id": "tezLMNQ2qPPR",
        "colab_type": "code",
        "colab": {}
      },
      "source": [
        "for i in range(0,55):\n",
        "  fname=path1/audio_clips[i]\n",
        "  x,sr= librosa.load(fname,sr=44100)\n",
        "  make_spectogram(x,sr,fname)\n",
        "print(\"Run Successful\")"
      ],
      "execution_count": 0,
      "outputs": []
    },
    {
      "cell_type": "code",
      "metadata": {
        "id": "32aejQJqqS1S",
        "colab_type": "code",
        "colab": {}
      },
      "source": [
        "for i in range(55,100):\n",
        "  fname=path1/audio_clips[i]\n",
        "  x,sr= librosa.load(fname,sr=44100)\n",
        "  make_spectogram(x,sr,fname)\n",
        "print(\"Run Successful\")"
      ],
      "execution_count": 0,
      "outputs": []
    },
    {
      "cell_type": "code",
      "metadata": {
        "id": "PM2w8Yz9sevL",
        "colab_type": "code",
        "colab": {}
      },
      "source": [
        "path1=Path('/content/drive/My Drive/genres/genres/rock')\n",
        "audio_clips=os.listdir(path1)\n",
        "folder='rock1'\n",
        "path2=Path('/content/drive/My Drive/genres/genres')\n",
        "path2=path2/folder\n",
        "path2.mkdir(parents=True,exist_ok=True)"
      ],
      "execution_count": 0,
      "outputs": []
    },
    {
      "cell_type": "code",
      "metadata": {
        "id": "KaWmrZgXwuIu",
        "colab_type": "code",
        "colab": {}
      },
      "source": [
        "for i in range(0,55):\n",
        "  fname=path1/audio_clips[i]\n",
        "  x,sr= librosa.load(fname,sr=44100)\n",
        "  make_spectogram(x,sr,fname)\n",
        "print(\"Run Successful\")"
      ],
      "execution_count": 0,
      "outputs": []
    },
    {
      "cell_type": "code",
      "metadata": {
        "id": "2z7GNpWfw1Wb",
        "colab_type": "code",
        "colab": {}
      },
      "source": [
        "for i in range(55,100):\n",
        "  fname=path1/audio_clips[i]\n",
        "  x,sr= librosa.load(fname,sr=44100)\n",
        "  make_spectogram(x,sr,fname)\n",
        "print(\"Run Successful\")"
      ],
      "execution_count": 0,
      "outputs": []
    },
    {
      "cell_type": "code",
      "metadata": {
        "id": "mphwBRGAw5Lj",
        "colab_type": "code",
        "colab": {}
      },
      "source": [
        ""
      ],
      "execution_count": 0,
      "outputs": []
    }
  ]
}